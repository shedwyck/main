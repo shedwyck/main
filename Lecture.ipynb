{
 "cells": [
  {
   "cell_type": "markdown",
   "id": "aee6216f",
   "metadata": {},
   "source": [
    "# Cosine Similarity for Measuring Similarity"
   ]
  },
  {
   "cell_type": "code",
   "execution_count": 1,
   "id": "8feaaadc",
   "metadata": {},
   "outputs": [],
   "source": [
    "import numpy as np \n",
    "import math \n",
    "import pandas as pd\n",
    "from matplotlib import pyplot as plt \n",
    "\n",
    "# Returns the norm of a vector \n",
    "def norm(vec): \n",
    "    return math.sqrt( sum(pow(num,2) for num in vec) )   \n",
    "\n",
    "# Vector of parameters: counts number of occurences of the words \"vector\", \"calculus\", and \"graph\" respectively \n",
    "\n",
    "book = [0]*4\n",
    "book[0] = np.array([62,8,3]) #Sturm-Liouville Theory and Applications \n",
    "book[1] = np.array([1086,5,8]) #Linear Algebra Done Right \n",
    "book[2] = np.array([170,14,26]) #Real Analysis\n",
    "book[3] = np.array([288,26,136]) #Math 22 Module \n",
    "\n",
    "# Query bias (should be positive numbers)\n",
    "q = np.array([1,1,1])\n",
    "\n",
    "# You can increase the value of a particular entry of q so that we have more bias towards that word. \n",
    "# Using [1,1,1] would mean that we put equal weight to all words (same thing if we use [2,2,2] or [3,3,3])\n",
    "\n",
    "data2 = np.empty([4,4])\n",
    "for i in range(4): \n",
    "    for j in range(4): \n",
    "        data2[i,j] = (np.dot( book[i], book[j] )) / (norm(book[i])*norm(book[j]))\n",
    "        \n",
    "data2 = pd.DataFrame(data2, index = ['Book 0','Book 1','Book 2','Book 3'], columns = ['Book 0','Book 1','Book 2','Book 3'] )\n",
    "\n",
    "sim = pd.Series( [np.dot(book[i],q) / (norm(q)*norm(book[i])) for i in range(4)], index =  ['Book 0','Book 1','Book 2','Book 3'] )\n",
    "\n",
    "\n",
    "\n"
   ]
  },
  {
   "cell_type": "code",
   "execution_count": 2,
   "id": "64e4a2f8",
   "metadata": {},
   "outputs": [
    {
     "data": {
      "text/plain": [
       "Book 0    0.673419\n",
       "Book 1    0.584239\n",
       "Book 2    0.702675\n",
       "Book 3    0.813027\n",
       "dtype: float64"
      ]
     },
     "execution_count": 2,
     "metadata": {},
     "output_type": "execute_result"
    }
   ],
   "source": [
    "sim"
   ]
  },
  {
   "cell_type": "code",
   "execution_count": 3,
   "id": "acc8bc7c",
   "metadata": {},
   "outputs": [
    {
     "data": {
      "text/html": [
       "<div>\n",
       "<style scoped>\n",
       "    .dataframe tbody tr th:only-of-type {\n",
       "        vertical-align: middle;\n",
       "    }\n",
       "\n",
       "    .dataframe tbody tr th {\n",
       "        vertical-align: top;\n",
       "    }\n",
       "\n",
       "    .dataframe thead th {\n",
       "        text-align: right;\n",
       "    }\n",
       "</style>\n",
       "<table border=\"1\" class=\"dataframe\">\n",
       "  <thead>\n",
       "    <tr style=\"text-align: right;\">\n",
       "      <th></th>\n",
       "      <th>Book 0</th>\n",
       "      <th>Book 1</th>\n",
       "      <th>Book 2</th>\n",
       "      <th>Book 3</th>\n",
       "    </tr>\n",
       "  </thead>\n",
       "  <tbody>\n",
       "    <tr>\n",
       "      <th>Book 0</th>\n",
       "      <td>1.000000</td>\n",
       "      <td>0.991542</td>\n",
       "      <td>0.993617</td>\n",
       "      <td>0.923613</td>\n",
       "    </tr>\n",
       "    <tr>\n",
       "      <th>Book 1</th>\n",
       "      <td>0.991542</td>\n",
       "      <td>1.000000</td>\n",
       "      <td>0.986693</td>\n",
       "      <td>0.904726</td>\n",
       "    </tr>\n",
       "    <tr>\n",
       "      <th>Book 2</th>\n",
       "      <td>0.993617</td>\n",
       "      <td>0.986693</td>\n",
       "      <td>1.000000</td>\n",
       "      <td>0.958686</td>\n",
       "    </tr>\n",
       "    <tr>\n",
       "      <th>Book 3</th>\n",
       "      <td>0.923613</td>\n",
       "      <td>0.904726</td>\n",
       "      <td>0.958686</td>\n",
       "      <td>1.000000</td>\n",
       "    </tr>\n",
       "  </tbody>\n",
       "</table>\n",
       "</div>"
      ],
      "text/plain": [
       "          Book 0    Book 1    Book 2    Book 3\n",
       "Book 0  1.000000  0.991542  0.993617  0.923613\n",
       "Book 1  0.991542  1.000000  0.986693  0.904726\n",
       "Book 2  0.993617  0.986693  1.000000  0.958686\n",
       "Book 3  0.923613  0.904726  0.958686  1.000000"
      ]
     },
     "execution_count": 3,
     "metadata": {},
     "output_type": "execute_result"
    }
   ],
   "source": [
    "data2"
   ]
  },
  {
   "cell_type": "markdown",
   "id": "e2a91a35",
   "metadata": {},
   "source": [
    "# The Shoelace Formula for Computing Area\n"
   ]
  },
  {
   "cell_type": "markdown",
   "id": "86f2eb99",
   "metadata": {},
   "source": [
    "To get the $(x,y)$ position of a point in your image, you may upload your image to https://www.image-map.net/ and click on the desired points there. But before clicking on the points, upon uploading the image, make sure to set the Shape parameter to \"Poly\". Make sure as well that the way you click points is in a counter-clockwise rotation (otherwise, you will get a negative number as your area!). \n",
    "\n",
    "Once done, click the \"Show Me The Code!\" button, and copy the list of numbers in the ``coords`` variable. The coordinates are listed in the format $x_1,y_1,x_2,y_2,\\ldots, x_n,y_n$, so make sure to fix the input data! The code below deals with that. "
   ]
  },
  {
   "cell_type": "code",
   "execution_count": 4,
   "id": "8daea8f0",
   "metadata": {},
   "outputs": [
    {
     "data": {
      "text/plain": [
       "[<matplotlib.lines.Line2D at 0x1d78e8ce290>]"
      ]
     },
     "execution_count": 4,
     "metadata": {},
     "output_type": "execute_result"
    },
    {
     "data": {
      "image/png": "[encoded data removed]",
      "text/plain": [
       "<Figure size 640x480 with 1 Axes>"
      ]
     },
     "metadata": {},
     "output_type": "display_data"
    }
   ],
   "source": [
    "f = open(\"mapdata.txt\")\n",
    "raw = f.readline() \n",
    "f.close() \n",
    "\n",
    "data = [int(x) for x in raw.split(',')]\n",
    "N = len(data) // 2 \n",
    "x_coords = [0]*N \n",
    "y_coords = [0]*N \n",
    "\n",
    "for i in range(N):\n",
    "    x_coords[i] , y_coords[i] = data[2*i], -data[2*i+1]\n",
    "    \n",
    "\n",
    "# Plots the points just to check if the outline is correct. \n",
    "plt.plot(x_coords, y_coords)"
   ]
  },
  {
   "cell_type": "code",
   "execution_count": 5,
   "id": "76ddf064",
   "metadata": {},
   "outputs": [
    {
     "name": "stdout",
     "output_type": "stream",
     "text": [
      "The area is 0.5008667714497042 km^2.\n"
     ]
    }
   ],
   "source": [
    "pixel_area = 0 \n",
    "for i in range(N): \n",
    "    pixel_area += x_coords[i]*y_coords[(i+1)%N] - x_coords[(i+1)%N]*y_coords[i] \n",
    "pixel_area = 0.5*pixel_area\n",
    "    \n",
    "# Using the scaling in the image, it was found that 104 pixel length <-> 100 meters = 0.1 km \n",
    "# Hence the scaling factor is (0.1 km) / (104 pixel length)\n",
    "\n",
    "scale_factor = 0.1 / 104 \n",
    "unit = \"km^2\"\n",
    "\n",
    "# Returns area in squared km \n",
    "true_area = pixel_area*(scale_factor**2)\n",
    "\n",
    "print(\"The area is \"+str(true_area)+' '+unit+'.')\n",
    "    "
   ]
  }
 ],
 "metadata": {
  "kernelspec": {
   "display_name": "Python 3 (ipykernel)",
   "language": "python",
   "name": "python3"
  },
  "language_info": {
   "codemirror_mode": {
    "name": "ipython",
    "version": 3
   },
   "file_extension": ".py",
   "mimetype": "text/x-python",
   "name": "python",
   "nbconvert_exporter": "python",
   "pygments_lexer": "ipython3",
   "version": "3.11.3"
  }
 },
 "nbformat": 4,
 "nbformat_minor": 5
}
